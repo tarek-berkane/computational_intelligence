{
 "cells": [
  {
   "cell_type": "code",
   "execution_count": 4,
   "metadata": {
    "collapsed": true
   },
   "outputs": [],
   "source": [
    "import math\n",
    "from random import randint\n",
    "from pprint import pprint\n",
    "\n",
    "import numpy\n",
    "import numpy as np\n",
    "import scipy.special\n",
    "import matplotlib.pyplot as plt\n",
    "\n",
    "\n",
    "# Activation function for output layer\n",
    "def step_function(x):\n",
    "    return (x > 0) * 1\n"
   ]
  },
  {
   "cell_type": "code",
   "execution_count": 5,
   "metadata": {},
   "outputs": [],
   "source": [
    "# neural network class definition\n",
    "class neuralNetwork:\n",
    "\n",
    "    # initialise the neural network\n",
    "    def __init__(self, layers_number, initial_weight, alpha, epoch, batch_testing=1):\n",
    "        self.input_node_number = layers_number[0]\n",
    "        self.hidden_node_number = layers_number[1]\n",
    "        self.output_node_number = layers_number[2]\n",
    "        self.iteration = epoch\n",
    "        self.lr = alpha\n",
    "\n",
    "        self.batch_testing = batch_testing\n",
    "\n",
    "        self.weight_input_hidden = numpy.array(initial_weight[0], dtype=float)\n",
    "        self.weight_hidden_output = numpy.array(initial_weight[1], dtype=float)\n",
    "\n",
    "        self.activation_function_sigmoid = lambda x: scipy.special.expit(x)\n",
    "        self.activation_function_step = lambda x: step_function(x)\n",
    "        self.error_by_training = []\n",
    "\n",
    "    # train the neural network\n",
    "    def train(self, dataset):\n",
    "        self.error_by_training = []\n",
    "\n",
    "        count = 0\n",
    "        for epoch in range(self.iteration):\n",
    "\n",
    "            dataset_length = len(dataset)\n",
    "            selected_samples = dataset[randint(0, dataset_length - 1)]\n",
    "\n",
    "            samples = selected_samples[0]\n",
    "            label = selected_samples[1]\n",
    "\n",
    "            inputs = numpy.array(samples, ndmin=2).T\n",
    "            targets = numpy.array(label, ndmin=2).T\n",
    "\n",
    "            hidden_inputs = numpy.dot(self.weight_input_hidden, inputs)\n",
    "            hidden_outputs = self.activation_function_sigmoid(hidden_inputs)\n",
    "\n",
    "            final_inputs = numpy.dot(self.weight_hidden_output, hidden_outputs)\n",
    "            final_outputs = self.activation_function_step(final_inputs)\n",
    "\n",
    "            # Backward \n",
    "            output_errors = targets - final_outputs\n",
    "            hidden_errors = numpy.dot(self.weight_hidden_output.T, output_errors)\n",
    "\n",
    "            self.weight_hidden_output += self.lr * numpy.dot(\n",
    "                (output_errors),\n",
    "                numpy.transpose(hidden_outputs),\n",
    "            )\n",
    "\n",
    "            self.weight_input_hidden += self.lr * numpy.dot(\n",
    "                (hidden_errors * hidden_outputs * (1.0 - hidden_outputs)),\n",
    "                numpy.transpose(inputs),\n",
    "            )\n",
    "\n",
    "            count += 1\n",
    "            if count > self.batch_testing:\n",
    "                count = count % self.batch_testing\n",
    "                self.error_by_training.append(self.testing(dataset))\n",
    "\n",
    "    def testing(self, dataset):\n",
    "\n",
    "        result = []\n",
    "        for sample, label in dataset:\n",
    "            prediction = self.query(sample)\n",
    "            error = label - [prediction[0][0], prediction[1][0]]\n",
    "            result.append(sum(numpy.absolute(error)))\n",
    "        return sum(result)\n",
    "\n",
    "    # query the neural network\n",
    "    def query(self, inputs_list):\n",
    "        # convert inputs list to 2d array\n",
    "        inputs = numpy.array(inputs_list, ndmin=2).T\n",
    "\n",
    "        # calculate signals into hidden layer\n",
    "        hidden_inputs = numpy.dot(self.weight_input_hidden, inputs)\n",
    "        # calculate the signals emerging from hidden layer\n",
    "        hidden_outputs = self.activation_function_sigmoid(hidden_inputs)\n",
    "\n",
    "        # calculate signals into final output layer\n",
    "        final_inputs = numpy.dot(self.weight_hidden_output, hidden_outputs)\n",
    "        # calculate the signals emerging from final output layer\n",
    "        final_outputs = self.activation_function_step(final_inputs)\n",
    "\n",
    "        return final_outputs\n"
   ]
  },
  {
   "cell_type": "code",
   "execution_count": 6,
   "metadata": {},
   "outputs": [],
   "source": [
    "# learning rate is 0.1\n",
    "learning_rate = 0.1\n",
    "iteration = 1000\n",
    "# number of input, hidden and output nodes\n",
    "input_nodes = 2\n",
    "hidden_nodes = 3\n",
    "output_nodes = 2\n",
    "\n",
    "layers = [input_nodes, hidden_nodes, output_nodes]\n",
    "# initial weight\n",
    "initial_weight = [\n",
    "    [[0.1, -0.2], [0, 0.2], [0.3, -0.4]],\n",
    "    [[-0.4, 0.1, 0.6], [0.2, -0.1, -0.2]],\n",
    "]\n",
    "\n",
    "\n",
    "dataset = numpy.array(\n",
    "    [\n",
    "        [[0.6, 0.1], [1, 0]],  # [clou, vis]\n",
    "        [[0.2, 0.3], [0, 1]],\n",
    "        [[0.4, 0.4], [0, 1]],\n",
    "        [[0.4, 0.2], [0, 1]],\n",
    "        [[0.5, 0.3], [1, 0]],\n",
    "        [[0.1, 0.2], [0, 1]],\n",
    "        [[0.8, 0.7], [1, 0]],\n",
    "    ],\n",
    "    dtype=float,\n",
    ")\n",
    "\n",
    "prediction_dataset = numpy.array(\n",
    "    [\n",
    "        [0.4, 0.8],\n",
    "        [0.8, 0.7],\n",
    "        [0.3, 0.9],\n",
    "        [0.1, 0.2],\n",
    "    ],\n",
    ")\n"
   ]
  },
  {
   "attachments": {},
   "cell_type": "markdown",
   "metadata": {},
   "source": [
    "### Intialisation of our model"
   ]
  },
  {
   "cell_type": "code",
   "execution_count": 7,
   "metadata": {},
   "outputs": [],
   "source": [
    "n = neuralNetwork(layers, initial_weight, learning_rate, iteration,batch_testing=50)"
   ]
  },
  {
   "attachments": {},
   "cell_type": "markdown",
   "metadata": {},
   "source": [
    "### Testing our models"
   ]
  },
  {
   "cell_type": "code",
   "execution_count": 8,
   "metadata": {},
   "outputs": [
    {
     "data": {
      "text/plain": [
       "8.0"
      ]
     },
     "execution_count": 8,
     "metadata": {},
     "output_type": "execute_result"
    }
   ],
   "source": [
    "n.testing(dataset)"
   ]
  },
  {
   "attachments": {},
   "cell_type": "markdown",
   "metadata": {},
   "source": [
    "### Plot labled data and unlabeled data"
   ]
  },
  {
   "cell_type": "code",
   "execution_count": 9,
   "metadata": {},
   "outputs": [
    {
     "data": {
      "image/png": "[encoded data removed]",
      "text/plain": [
       "<Figure size 640x480 with 1 Axes>"
      ]
     },
     "metadata": {},
     "output_type": "display_data"
    }
   ],
   "source": [
    "# create instance of neural network\n",
    "\n",
    "\n",
    "my_dataset = numpy.array(\n",
    "    [\n",
    "        # labled\n",
    "        [[0.6, 0.1], [1, 0]],  # [Velo, Moto]\n",
    "        [[0.2, 0.3], [0, 1]],\n",
    "        [[0.1, 0.2], [0, 1]],\n",
    "        [[0.4, 0.4], [0, 1]],\n",
    "        [[0.4, 0.2], [0, 1]],\n",
    "        [[0.5, 0.3], [1, 0]],\n",
    "        [[0.8, 0.7], [1, 0]],\n",
    "        # unlabeled\n",
    "        [[0.4, 0.8],[-1,-1]],\n",
    "        [[0.8, 0.7],[-1,-1]],\n",
    "        [[0.3, 0.9],[-1,-1]],\n",
    "        [[0.1, 0.2],[-1,-1]],\n",
    "    ],\n",
    ")\n",
    "\n",
    "get_x = lambda x: [i[0] for i in x]\n",
    "get_y = lambda x: [i[1] for i in x]\n",
    "\n",
    "area1, area2, area3 = [], [],[]\n",
    "\n",
    "for sample, label in my_dataset:\n",
    "    if label[0] == 1:\n",
    "        area1.append(sample)\n",
    "    elif label[0] == 0:\n",
    "        area2.append(sample)\n",
    "    else:\n",
    "        area3.append(sample)\n",
    "\n",
    "plt.scatter(get_x(area1), get_y(area1),label=\"Velo\", marker=\"+\")\n",
    "plt.scatter(get_x(area2), get_y(area2),label=\"Moto\", marker=\"o\")\n",
    "plt.scatter(get_x(area3), get_y(area3),label=\"none\", marker=\"*\")\n",
    "\n",
    "plt.legend(['Velo', 'Moto', \"none\"], loc='upper left') \n",
    "\n",
    "\n",
    "plt.show()"
   ]
  },
  {
   "attachments": {},
   "cell_type": "markdown",
   "metadata": {},
   "source": [
    "### Show model performance before training"
   ]
  },
  {
   "cell_type": "code",
   "execution_count": 10,
   "metadata": {},
   "outputs": [
    {
     "name": "stdout",
     "output_type": "stream",
     "text": [
      "Samples Value\t \t Pred [Velo, Moto] \t [Velo, Moto]\n",
      "Sample: [0.6, 0.1]  \t Prediction [1, 0] \t Label: [1. 0.]\n",
      "Sample: [0.2, 0.3]  \t Prediction [1, 0] \t Label: [0. 1.]\n",
      "Sample: [0.4, 0.4]  \t Prediction [1, 0] \t Label: [0. 1.]\n",
      "Sample: [0.4, 0.2]  \t Prediction [1, 0] \t Label: [0. 1.]\n",
      "Sample: [0.5, 0.3]  \t Prediction [1, 0] \t Label: [1. 0.]\n",
      "Sample: [0.1, 0.2]  \t Prediction [1, 0] \t Label: [0. 1.]\n",
      "Sample: [0.8, 0.7]  \t Prediction [1, 0] \t Label: [1. 0.]\n",
      "\n",
      "\n",
      "Number of errors\n",
      "8.0\n"
     ]
    }
   ],
   "source": [
    "print(\"Samples Value\\t\",\"\\t Pred [Velo, Moto]\", \"\\t [Velo, Moto]\")\n",
    "for sample in dataset:\n",
    "    result = list(n.query(sample))\n",
    "    print('Sample:',[sample[0][0],sample[0][1]],\" \\t Prediction\",[result[0][0], result[1][0]],\"\\t Label:\",sample[1],)\n",
    "\n",
    "print(\"\\n\\nNumber of errors\")\n",
    "print(n.testing(dataset))"
   ]
  },
  {
   "attachments": {},
   "cell_type": "markdown",
   "metadata": {},
   "source": [
    "### Train our model"
   ]
  },
  {
   "cell_type": "code",
   "execution_count": 11,
   "metadata": {},
   "outputs": [
    {
     "name": "stdout",
     "output_type": "stream",
     "text": [
      "Samples Value\t \t Pred [Velo, Moto] \t [Velo, Moto]\n",
      "Sample: [0.6, 0.1]  \t Prediction [1, 0] \t Label: [1. 0.]\n",
      "Sample: [0.2, 0.3]  \t Prediction [0, 1] \t Label: [0. 1.]\n",
      "Sample: [0.4, 0.4]  \t Prediction [0, 1] \t Label: [0. 1.]\n",
      "Sample: [0.4, 0.2]  \t Prediction [0, 1] \t Label: [0. 1.]\n",
      "Sample: [0.5, 0.3]  \t Prediction [1, 0] \t Label: [1. 0.]\n",
      "Sample: [0.1, 0.2]  \t Prediction [0, 1] \t Label: [0. 1.]\n",
      "Sample: [0.8, 0.7]  \t Prediction [1, 0] \t Label: [1. 0.]\n",
      "\n",
      "\n",
      "Number of errors\n",
      "0.0\n"
     ]
    }
   ],
   "source": [
    "n.train(dataset)\n",
    "\n",
    "print(\"Samples Value\\t\",\"\\t Pred [Velo, Moto]\", \"\\t [Velo, Moto]\")\n",
    "for sample in dataset:\n",
    "    result = list(n.query(sample))\n",
    "    print('Sample:',[sample[0][0],sample[0][1]],\" \\t Prediction\",[result[0][0], result[1][0]],\"\\t Label:\",sample[1],)\n",
    "\n",
    "\n",
    "print(\"\\n\\nNumber of errors\")\n",
    "print(n.testing(dataset))"
   ]
  },
  {
   "attachments": {},
   "cell_type": "markdown",
   "metadata": {},
   "source": [
    "### Show error rate"
   ]
  },
  {
   "cell_type": "code",
   "execution_count": 12,
   "metadata": {},
   "outputs": [
    {
     "data": {
      "image/png": "[encoded data removed]",
      "text/plain": [
       "<Figure size 640x480 with 1 Axes>"
      ]
     },
     "metadata": {},
     "output_type": "display_data"
    }
   ],
   "source": [
    "length_error  = len(n.error_by_training)\n",
    "iterations = np.array(range(length_error)) * n.batch_testing\n",
    "\n",
    "fig, ax = plt.subplots()\n",
    "ax.plot(iterations, n.error_by_training)\n",
    "\n",
    "ax.grid(True, linestyle='-.')\n",
    "ax.tick_params(labelcolor='r', labelsize='medium', width=3)\n",
    "\n",
    "plt.show()"
   ]
  },
  {
   "attachments": {},
   "cell_type": "markdown",
   "metadata": {},
   "source": [
    "## Testing our unlabeled dataset"
   ]
  },
  {
   "cell_type": "code",
   "execution_count": 13,
   "metadata": {},
   "outputs": [
    {
     "name": "stdout",
     "output_type": "stream",
     "text": [
      "\n",
      "\n",
      "Samples Value\t \t Prediction [Velo, Moto]\n",
      "Sample [0.4, 0.8] \t Prediction [0, 1]\n",
      "Sample [0.8, 0.7] \t Prediction [1, 0]\n",
      "Sample [0.3, 0.9] \t Prediction [0, 1]\n",
      "Sample [0.1, 0.2] \t Prediction [0, 1]\n"
     ]
    }
   ],
   "source": [
    "print('\\n')\n",
    "print(\"Samples Value\\t\",\"\\t Prediction [Velo, Moto]\")\n",
    "for sample in prediction_dataset:\n",
    "    result = list(n.query(sample))\n",
    "    print(\"Sample\",[sample[0],sample[1]],'\\t Prediction',[result[0][0], result[1][0]])\n",
    "\n"
   ]
  },
  {
   "attachments": {},
   "cell_type": "markdown",
   "metadata": {},
   "source": [
    "### Plot dataset after training and prediction"
   ]
  },
  {
   "cell_type": "code",
   "execution_count": 14,
   "metadata": {},
   "outputs": [
    {
     "data": {
      "image/png": "[encoded data removed]",
      "text/plain": [
       "<Figure size 640x480 with 1 Axes>"
      ]
     },
     "metadata": {},
     "output_type": "display_data"
    }
   ],
   "source": [
    "my_dataset = numpy.array(\n",
    "    [\n",
    "        # labled\n",
    "        [[0.6, 0.1], [1, 0]],  # [Velo, Moto]\n",
    "        [[0.1, 0.2], [0, 1]],\n",
    "        [[0.2, 0.3], [0, 1]],\n",
    "        [[0.4, 0.4], [0, 1]],\n",
    "        [[0.4, 0.2], [0, 1]],\n",
    "        [[0.5, 0.3], [1, 0]],\n",
    "        [[0.8, 0.7], [1, 0]],\n",
    "        # unlabeled\n",
    "        [[0.4, 0.8], [0, 1]],\n",
    "        [[0.8, 0.7], [1, 0]],\n",
    "        [[0.3, 0.9], [0, 1]],\n",
    "        [[0.1, 0.2], [0, 1]],\n",
    "    ],\n",
    ")\n",
    "\n",
    "get_x = lambda x: [i[0] for i in x]\n",
    "get_y = lambda x: [i[1] for i in x]\n",
    "\n",
    "area1, area2, area3 = [], [], []\n",
    "\n",
    "for sample, label in my_dataset:\n",
    "    if label[0] == 1:\n",
    "        area1.append(sample)\n",
    "    elif label[0] == 0:\n",
    "        area2.append(sample)\n",
    "    else:\n",
    "        area3.append(sample)\n",
    "\n",
    "plt.scatter(get_x(area1), get_y(area1), label=\"Velo\", marker=\"+\")\n",
    "plt.scatter(get_x(area2), get_y(area2), label=\"Moto\", marker=\"o\")\n",
    "plt.scatter(get_x(area3), get_y(area3), label=\"none\", marker=\"*\")\n",
    "\n",
    "plt.legend([\"Velo\", \"Moto\", \"none\"], loc=\"upper left\")\n",
    "\n",
    "\n",
    "plt.show()\n"
   ]
  },
  {
   "attachments": {},
   "cell_type": "markdown",
   "metadata": {},
   "source": [
    "### Show final weight \n",
    "#### Weight input -> hidden"
   ]
  },
  {
   "cell_type": "code",
   "execution_count": 15,
   "metadata": {},
   "outputs": [
    {
     "name": "stdout",
     "output_type": "stream",
     "text": [
      "[[-0.54022403 -0.31487416]\n",
      " [-0.10681749  0.13169417]\n",
      " [ 0.65145827 -0.44015792]]\n"
     ]
    }
   ],
   "source": [
    "print(n.weight_input_hidden)"
   ]
  },
  {
   "attachments": {},
   "cell_type": "markdown",
   "metadata": {},
   "source": [
    "#### Weight hidden output"
   ]
  },
  {
   "cell_type": "code",
   "execution_count": 16,
   "metadata": {},
   "outputs": [
    {
     "name": "stdout",
     "output_type": "stream",
     "text": [
      "[[-0.68578648 -0.11863297  0.62097983]\n",
      " [ 0.49045977  0.00624193 -0.38094399]]\n"
     ]
    }
   ],
   "source": [
    "print(n.weight_hidden_output)"
   ]
  }
 ],
 "metadata": {
  "kernelspec": {
   "display_name": "my_env",
   "language": "python",
   "name": "python3"
  },
  "language_info": {
   "codemirror_mode": {
    "name": "ipython",
    "version": 3
   },
   "file_extension": ".py",
   "mimetype": "text/x-python",
   "name": "python",
   "nbconvert_exporter": "python",
   "pygments_lexer": "ipython3",
   "version": "3.8.10"
  },
  "vscode": {
   "interpreter": {
    "hash": "6afd667eaa9f8474d1a467572c172337857a9364c3a111ef80c04642a3536dd3"
   }
  }
 },
 "nbformat": 4,
 "nbformat_minor": 1
}
